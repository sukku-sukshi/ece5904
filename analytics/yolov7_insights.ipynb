{
 "cells": [
  {
   "cell_type": "code",
   "execution_count": null,
   "metadata": {},
   "outputs": [],
   "source": [
    "import sys\n",
    "import pandas as pd\n",
    "from pandas import read_sql_query, read_sql_table\n",
    "import tables\n",
    "import sqlite3\n",
    "import sqlalchemy\n",
    "import matplotlib.pyplot as plt"
   ]
  },
  {
   "cell_type": "code",
   "execution_count": null,
   "metadata": {},
   "outputs": [],
   "source": [
    "####################################################################################\n",
    "#   description     : read sqlite file\n",
    "#   Args:\n",
    "#       dbfile      : database file \n",
    "####################################################################################\n",
    "def read_sqlite(dbfile):\n",
    "    with sqlite3.connect(dbfile) as dbcon:\n",
    "        tables = list(read_sql_query(\"SELECT name FROM sqlite_master WHERE type='table';\", dbcon)['name'])\n",
    "        out = {tbl : read_sql_query(f\"SELECT * from {tbl}\", dbcon) for tbl in tables}\n",
    "    return out\n",
    "\n",
    "\n",
    "####################################################################################\n",
    "#   description     : For all variants (network/image size in this case), \n",
    "#                     load all stat files from single test\n",
    "#   Args:\n",
    "#       master      : master dictionary resembling the folder structure: \n",
    "#                     [root]->[ test_case_# ]->[ $(variant)_$(stat).csv ] \n",
    "#       test_no     : specify a single test case\n",
    "#       variants    : img_size?\n",
    "#       stat_file   : stat file name (string)\n",
    "####################################################################################\n",
    "def singleTest_allVariants_stats(master, test, variant_prefix, variants, stat_file):\n",
    "    db = {}\n",
    "    for v in variants:\n",
    "        db[v] = master[test][str(variant_prefix+v+\"_\"+stat_file+'.csv')]\n",
    "    return db\n",
    "\n",
    "\n",
    "\n",
    "####################################################################################\n",
    "#   description     : For all variants (network/image size in this case), \n",
    "#                   load all stat files from all the test cases          \n",
    "#   Args:\n",
    "#       master       : master dictionary resembling the folder structure: \n",
    "#                      [root]->[ test_case_# ]->[ $(variant)_$(stat).csv ] \n",
    "#       test_no      : specify a single test case\n",
    "#       variants     : img_size?\n",
    "#       stat_file   : stat file name (string)\n",
    "####################################################################################\n",
    "def allTests_allVariants_stats(master, tests, variant_prefix, variants, stat_file):\n",
    "    file_ext  = '.csv'\n",
    "    db = {}\n",
    "    temp = {}\n",
    "\n",
    "    for test_no in tests:\n",
    "        for v in variants:\n",
    "            temp[v] = master[test_no][str(variant_prefix+v+\"_\"+stat_file+file_ext)]\n",
    "        db[test_no] = temp\n",
    "    return db\n",
    "\n",
    "\n",
    "\n",
    "####################################################################################\n",
    "#   description     : add suffix to all the columns of a dataframe         \n",
    "#   Args:\n",
    "#       df          : dataframe  \n",
    "#       sfx         : suffix\n",
    "####################################################################################\n",
    "# \n",
    "def add_suffix(df,sfx, ignore):\n",
    "    df.columns = df.columns.map(lambda x: str(x) if x == ignore else (str(x) + sfx))\n",
    "\n",
    "\n",
    "\n",
    "####################################################################################\n",
    "#   description     : load all metrics from all the tests, average the values         \n",
    "#   Args:\n",
    "#       src         : Source dataframe containing all tests and variants\n",
    "#                      df [ variant_# ] [ test_# ] \n",
    "#       tests       : specify a list of test folder names of type string.\n",
    "#       variants    : img_size?\n",
    "#       grpByVal    : the key/index. \n",
    "####################################################################################\n",
    "def get_avg_of_all_tests(src, tests= master.keys(), variants=network_sizes, grpByVal='Name'):\n",
    "    avg = {}\n",
    "    for v in variants:\n",
    "        avg[v] = pd.DataFrame()\n",
    "        for test in tests:\n",
    "            avg[v] = pd.concat([avg[v],src[test][v]])\n",
    "        avg[v] = avg[v].groupby(grpByVal,as_index=False).mean()\n",
    "    return avg\n",
    "\n",
    "\n",
    "####################################################################################\n",
    "#   description     : Extract a single metric from all the variants for plotting\n",
    "#   Args:\n",
    "#       src         : Source dataframe containing all tests and variants\n",
    "#                      df [ variant_# ] \n",
    "#       x           : key/index value that forms the X-axis in the plot.\n",
    "#       y           : metric to view/compare against other variants\n",
    "#       variants    : img_size?\n",
    "####################################################################################\n",
    "def get_single_metric_all_variants(src=None, x='Time',  y=None, variants=network_sizes):\n",
    "    data = src[variants[0]][[x]]\n",
    "    for v in variants:\n",
    "        add_suffix(src[v], str('_'+v), ignore=x)\n",
    "        data = pd.concat([data, src[v][[str(y+'_'+v)]]], axis=1)\n",
    "    return data\n"
   ]
  },
  {
   "cell_type": "markdown",
   "metadata": {},
   "source": [
    "<H1> Combined stats from all the frame-inferences\n"
   ]
  },
  {
   "cell_type": "markdown",
   "metadata": {},
   "source": [
    "<H3> Test VST2: small video"
   ]
  },
  {
   "cell_type": "code",
   "execution_count": null,
   "metadata": {},
   "outputs": [],
   "source": [
    "#Get all files\n",
    "import os\n",
    "\n",
    "#define base paths\n",
    "nsys_rep_base = '../nsys_reports/vst2'\n",
    "test_folders = ['test1','test2','test3']\n",
    "network_sizes = ['64','128','256','512','1024'] #network input sizes\n",
    "\n",
    "#master dataframe = dictionary of all stat files\n",
    "master = {}\n",
    "\n",
    "for folder in test_folders:\n",
    "    temp_path = os.path.join(nsys_rep_base,folder,'stats')\n",
    "    temp={}\n",
    "    for f in os.listdir(path=os.path.join(nsys_rep_base,folder,'stats')):\n",
    "        temp[str(f)] = pd.read_csv(os.path.join(nsys_rep_base,folder,'stats',f))\n",
    "    master[str(folder)] = temp\n",
    "\n",
    "stats_types = master['test1'].keys()\n"
   ]
  },
  {
   "cell_type": "code",
   "execution_count": 98,
   "metadata": {},
   "outputs": [],
   "source": [
    "def show_n_save_graphs(test_no, stat_file, x, y):\n",
    "    nvtx_sum = allTests_allVariants_stats(master=master,   tests= master.keys(),    variant_prefix='size_', variants=network_sizes, stat_file=stat_file)\n",
    "    nvtx_avg = get_avg_of_all_tests(src=nvtx_sum, tests=master.keys(), variants=network_sizes, grpByVal=x)\n",
    "    nvtx_total_time = get_single_metric_all_variants(nvtx_avg, x=x, y=y)\n",
    "\n",
    "    ax = nvtx_total_time.plot(kind='bar',x=_x, title=_y, ylabel='time (ns)')\n",
    "    plt.setp(ax.get_xticklabels(), rotation=90, horizontalalignment='right');\n",
    "    ax.legend(loc='upper center', bbox_to_anchor=(1.22, 1.02), ncol=1, fancybox=False, shadow=True)\n",
    "\n",
    "    fig = ax.get_figure()\n",
    "    fig.savefig('figures/vst{test_no}_{stat_file}_{y}.jpg',bbox_inches='tight')\n",
    "    fig = ax.get_figure()"
   ]
  },
  {
   "cell_type": "markdown",
   "metadata": {},
   "source": [
    "<H3> NVTX: total times (ns)"
   ]
  },
  {
   "cell_type": "code",
   "execution_count": null,
   "metadata": {},
   "outputs": [],
   "source": [
    "_x = 'Name'\n",
    "_y = 'Total Time (ns)'\n",
    "_stat_file = \n",
    "\n",
    "show_n_save_graphs('cuda_api_sum', 'Name', )\n",
    "nvtx_sum = allTests_allVariants_stats(master=master,   tests= master.keys(),    variant_prefix='size_', variants=network_sizes, stat_file=)\n",
    "nvtx_avg = get_avg_of_all_tests(src=nvtx_sum, tests=master.keys(), variants=network_sizes, grpByVal=_x)\n",
    "nvtx_total_time = get_single_metric_all_variants(nvtx_avg, x=_x, y=_y)\n",
    "\n",
    "ax = nvtx_total_time.plot(kind='bar',x=_x, title=_y, ylabel='time (ns)')\n",
    "plt.setp(ax.get_xticklabels(), rotation=90, horizontalalignment='right');\n",
    "ax.legend(loc='upper center', bbox_to_anchor=(1.22, 1.02), ncol=1, fancybox=False, shadow=True)\n",
    "\n",
    "fig = ax.get_figure()\n",
    "fig.savefig('figures/nvtx_vst2_total_time.jpg',bbox_inches='tight')\n",
    "fig = ax.get_figure()\n"
   ]
  },
  {
   "cell_type": "markdown",
   "metadata": {},
   "source": [
    "<H3> NVTX: Median times (ns)"
   ]
  },
  {
   "cell_type": "code",
   "execution_count": null,
   "metadata": {},
   "outputs": [],
   "source": [
    "_x = 'Name'\n",
    "_y = 'Med (ns)'\n",
    "\n",
    "nvtx_sum = allTests_allVariants_stats(master=master,   tests= master.keys(),    variant_prefix='size_', variants=network_sizes, stat_file='cuda_api_sum')\n",
    "nvtx_avg = get_avg_of_all_tests(src=nvtx_sum, tests=master.keys(), variants=network_sizes, grpByVal=_x)\n",
    "nvtx_total_time = get_single_metric_all_variants(nvtx_avg, x=_x, y=_y)\n",
    "\n",
    "ax = nvtx_total_time.plot(kind='bar',x=_x, title=_y, ylabel='time (ns)',log=True)\n",
    "plt.setp(ax.get_xticklabels(), rotation=90, horizontalalignment='right');\n",
    "ax.legend(loc='upper center', bbox_to_anchor=(1.22, 1.02), ncol=1, fancybox=False, shadow=True)\n",
    "\n",
    "fig = ax.get_figure()\n",
    "fig.savefig('figures/nvtx_vst2_median_time.jpg',bbox_inches='tight')\n",
    "fig = ax.get_figure()\n"
   ]
  },
  {
   "cell_type": "markdown",
   "metadata": {},
   "source": [
    "<H3> NVTX: number of calls"
   ]
  },
  {
   "cell_type": "code",
   "execution_count": null,
   "metadata": {},
   "outputs": [],
   "source": [
    "_x = 'Name'\n",
    "_y = 'Num Calls'\n",
    "\n",
    "nvtx_sum = allTests_allVariants_stats(master=master,   tests= master.keys(),    variant_prefix='size_', variants=network_sizes, stat_file='cuda_api_sum')\n",
    "nvtx_avg = get_avg_of_all_tests(src=nvtx_sum, tests=master.keys(), variants=network_sizes, grpByVal=_x)\n",
    "nvtx_total_time = get_single_metric_all_variants(nvtx_avg, x=_x, y=_y)\n",
    "\n",
    "ax = nvtx_total_time.plot(kind='bar',x=_x, title=_y, ylabel=_y, log=True)\n",
    "plt.setp(ax.get_xticklabels(), rotation=90, horizontalalignment='right');\n",
    "ax.legend(loc='upper center', bbox_to_anchor=(1.22, 1.02), ncol=1, fancybox=False, shadow=True)\n",
    "\n",
    "fig = ax.get_figure()\n",
    "fig.savefig(f'figures/nvtx_vst2_{_y}.jpg',bbox_inches='tight')\n",
    "fig = ax.get_figure()\n"
   ]
  },
  {
   "cell_type": "markdown",
   "metadata": {},
   "source": [
    "<H3> NVTX: Avg time"
   ]
  },
  {
   "cell_type": "code",
   "execution_count": null,
   "metadata": {},
   "outputs": [],
   "source": [
    "_x = 'Name'\n",
    "_y = 'Avg (ns)'\n",
    "\n",
    "nvtx_sum = allTests_allVariants_stats(master=master,   tests= master.keys(),    variant_prefix='size_', variants=network_sizes, stat_file='cuda_api_sum')\n",
    "nvtx_avg = get_avg_of_all_tests(src=nvtx_sum, tests=master.keys(), variants=network_sizes, grpByVal=_x)\n",
    "nvtx_total_time = get_single_metric_all_variants(nvtx_avg, x=_x, y=_y)\n",
    "\n",
    "ax = nvtx_total_time.plot(kind='bar',x=_x, title=_y, ylabel=_y, log=True)\n",
    "plt.setp(ax.get_xticklabels(), rotation=90, horizontalalignment='right');\n",
    "ax.legend(loc='upper center', bbox_to_anchor=(1.22, 1.02), ncol=1, fancybox=False, shadow=True)\n",
    "\n",
    "fig = ax.get_figure()\n",
    "fig.savefig(f'figures/nvtx_vst2_{_y}.jpg',bbox_inches='tight')\n",
    "fig = ax.get_figure()\n"
   ]
  },
  {
   "cell_type": "markdown",
   "metadata": {},
   "source": []
  },
  {
   "cell_type": "code",
   "execution_count": null,
   "metadata": {},
   "outputs": [],
   "source": [
    "_stat_file = 'cuda_gpu_mem_size_sum'\n",
    "_x = 'Operation'\n",
    "_y = 'Total (MB)'\n",
    "\n",
    "nvtx_sum = allTests_allVariants_stats(master=master,   tests= master.keys(),    variant_prefix='size_', variants=network_sizes, stat_file=_stat_file)\n",
    "nvtx_avg = get_avg_of_all_tests(src=nvtx_sum, tests=master.keys(), variants=network_sizes, grpByVal=_x)\n",
    "nvtx_total_time = get_single_metric_all_variants(nvtx_avg, x=_x, y=_y)\n",
    "\n",
    "ax = nvtx_total_time.plot(kind='bar',x=_x, title=_y, ylabel=_y)\n",
    "plt.setp(ax.get_xticklabels(), rotation=90, horizontalalignment='right');\n",
    "ax.legend(loc='upper center', bbox_to_anchor=(1.22, 1.02), ncol=1, fancybox=False, shadow=True)\n",
    "\n",
    "fig = ax.get_figure()\n",
    "fig.savefig(f'figures/vst2_{_stat_file}_{_y}.jpg',bbox_inches='tight')\n",
    "fig = ax.get_figure()\n"
   ]
  },
  {
   "cell_type": "code",
   "execution_count": null,
   "metadata": {},
   "outputs": [],
   "source": [
    "_stat_file = 'cuda_gpu_mem_size_sum'\n",
    "_x = 'Operation'\n",
    "_y = 'Avg (MB)'\n",
    "\n",
    "nvtx_sum = allTests_allVariants_stats(master=master,   tests= master.keys(),    variant_prefix='size_', variants=network_sizes, stat_file=_stat_file)\n",
    "nvtx_avg = get_avg_of_all_tests(src=nvtx_sum, tests=master.keys(), variants=network_sizes, grpByVal=_x)\n",
    "nvtx_total_time = get_single_metric_all_variants(nvtx_avg, x=_x, y=_y)\n",
    "\n",
    "ax = nvtx_total_time.plot(kind='bar',x=_x, title=_y, ylabel=_y)\n",
    "plt.setp(ax.get_xticklabels(), rotation=90, horizontalalignment='right');\n",
    "ax.legend(loc='upper center', bbox_to_anchor=(1.22, 1.02), ncol=1, fancybox=False, shadow=True)\n",
    "\n",
    "fig = ax.get_figure()\n",
    "fig.savefig(f'figures/vst2_{_stat_file}_{_y}.jpg',bbox_inches='tight')\n",
    "fig = ax.get_figure()\n"
   ]
  },
  {
   "cell_type": "code",
   "execution_count": null,
   "metadata": {},
   "outputs": [],
   "source": [
    "_stat_file = 'osrt_sum'\n",
    "_x = 'Name'\n",
    "_y = 'Time (%)'\n",
    "\n",
    "nvtx_sum = allTests_allVariants_stats(master=master,   tests= master.keys(),    variant_prefix='size_', variants=network_sizes, stat_file=_stat_file)\n",
    "nvtx_avg = get_avg_of_all_tests(src=nvtx_sum, tests=master.keys(), variants=network_sizes, grpByVal=_x)\n",
    "nvtx_total_time = get_single_metric_all_variants(nvtx_avg, x=_x, y=_y)\n",
    "\n",
    "ax = nvtx_total_time.plot(kind='bar',x=_x, title=_y, ylabel=_y, log=True)\n",
    "plt.setp(ax.get_xticklabels(), rotation=90, horizontalalignment='right');\n",
    "ax.legend(loc='upper center', bbox_to_anchor=(1.22, 1.02), ncol=1, fancybox=False, shadow=True)\n",
    "\n",
    "fig = ax.get_figure()\n",
    "fig.savefig(f'figures/vst2_{_stat_file}_{_y}.jpg',bbox_inches='tight')\n",
    "fig = ax.get_figure()\n"
   ]
  },
  {
   "cell_type": "code",
   "execution_count": null,
   "metadata": {},
   "outputs": [],
   "source": [
    "_stat_file = 'osrt_sum'\n",
    "_x = 'Name'\n",
    "_y = 'Num Calls'\n",
    "\n",
    "nvtx_sum = allTests_allVariants_stats(master=master,   tests= master.keys(),    variant_prefix='size_', variants=network_sizes, stat_file=_stat_file)\n",
    "nvtx_avg = get_avg_of_all_tests(src=nvtx_sum, tests=master.keys(), variants=network_sizes, grpByVal=_x)\n",
    "nvtx_total_time = get_single_metric_all_variants(nvtx_avg, x=_x, y=_y)\n",
    "\n",
    "ax = nvtx_total_time.plot(kind='bar',x=_x, title=_y, ylabel=_y, log=True)\n",
    "plt.setp(ax.get_xticklabels(), rotation=90, horizontalalignment='right');\n",
    "ax.legend(loc='upper center', bbox_to_anchor=(1.22, 1.02), ncol=1, fancybox=False, shadow=True)\n",
    "\n",
    "fig = ax.get_figure()\n",
    "fig.savefig(f'figures/vst2_{_stat_file}_{_y}.jpg',bbox_inches='tight')\n",
    "fig = ax.get_figure()\n"
   ]
  },
  {
   "cell_type": "code",
   "execution_count": null,
   "metadata": {},
   "outputs": [],
   "source": [
    "_stat_file = 'osrt_sum'\n",
    "_x = 'Name'\n",
    "_y = 'Avg (ns)'\n",
    "\n",
    "nvtx_sum = allTests_allVariants_stats(master=master,   tests= master.keys(),    variant_prefix='size_', variants=network_sizes, stat_file=_stat_file)\n",
    "nvtx_avg = get_avg_of_all_tests(src=nvtx_sum, tests=master.keys(), variants=network_sizes, grpByVal=_x)\n",
    "nvtx_total_time = get_single_metric_all_variants(nvtx_avg, x=_x, y=_y)\n",
    "\n",
    "ax = nvtx_total_time.plot(kind='bar',x=_x, title=_y, ylabel=_y)\n",
    "plt.setp(ax.get_xticklabels(), rotation=90, horizontalalignment='right');\n",
    "ax.legend(loc='upper center', bbox_to_anchor=(1.22, 1.02), ncol=1, fancybox=False, shadow=True)\n",
    "\n",
    "fig = ax.get_figure()\n",
    "fig.savefig(f'figures/vst2_{_stat_file}_{_y}.jpg',bbox_inches='tight')\n",
    "fig = ax.get_figure()\n"
   ]
  },
  {
   "cell_type": "code",
   "execution_count": null,
   "metadata": {},
   "outputs": [],
   "source": [
    "_stat_file = 'cuda_gpu_mem_size_sum'\n",
    "_x = 'Operation'\n",
    "_y = 'Total (MB)'\n",
    "\n",
    "nvtx_sum = allTests_allVariants_stats(master=master,   tests= master.keys(),    variant_prefix='size_', variants=network_sizes, stat_file=_stat_file)\n",
    "nvtx_avg = get_avg_of_all_tests(src=nvtx_sum, tests=master.keys(), variants=network_sizes, grpByVal=_x)\n",
    "nvtx_total_time = get_single_metric_all_variants(nvtx_avg, x=_x, y=_y)\n",
    "\n",
    "ax = nvtx_total_time.plot(kind='bar',x=_x, title=_y, ylabel=_y)\n",
    "plt.setp(ax.get_xticklabels(), rotation=90, horizontalalignment='right');\n",
    "ax.legend(loc='upper center', bbox_to_anchor=(1.22, 1.02), ncol=1, fancybox=False, shadow=True)\n",
    "\n",
    "fig = ax.get_figure()\n",
    "fig.savefig(f'figures/vst2_{_stat_file}_{_y}.jpg',bbox_inches='tight')\n",
    "fig = ax.get_figure()\n"
   ]
  },
  {
   "cell_type": "code",
   "execution_count": null,
   "metadata": {},
   "outputs": [],
   "source": [
    "_stat_file = 'cuda_gpu_mem_size_sum'\n",
    "_x = 'Operation'\n",
    "_y = 'Count'\n",
    "\n",
    "nvtx_sum = allTests_allVariants_stats(master=master,   tests= master.keys(),    variant_prefix='size_', variants=network_sizes, stat_file=_stat_file)\n",
    "nvtx_avg = get_avg_of_all_tests(src=nvtx_sum, tests=master.keys(), variants=network_sizes, grpByVal=_x)\n",
    "nvtx_total_time = get_single_metric_all_variants(nvtx_avg, x=_x, y=_y)\n",
    "\n",
    "ax = nvtx_total_time.plot(kind='bar',x=_x, title=_y, ylabel=_y)\n",
    "plt.setp(ax.get_xticklabels(), rotation=90, horizontalalignment='right');\n",
    "ax.legend(loc='upper center', bbox_to_anchor=(1.22, 1.02), ncol=1, fancybox=False, shadow=True)\n",
    "\n",
    "fig = ax.get_figure()\n",
    "fig.savefig(f'figures/vst2_{_stat_file}_{_y}.jpg',bbox_inches='tight')\n",
    "fig = ax.get_figure()\n"
   ]
  },
  {
   "cell_type": "code",
   "execution_count": null,
   "metadata": {},
   "outputs": [],
   "source": [
    "_stat_file = 'cuda_gpu_mem_time_sum'\n",
    "_x = 'Operation'\n",
    "_y = 'Count'\n",
    "\n",
    "nvtx_sum = allTests_allVariants_stats(master=master,   tests= master.keys(),    variant_prefix='size_', variants=network_sizes, stat_file=_stat_file)\n",
    "nvtx_avg = get_avg_of_all_tests(src=nvtx_sum, tests=master.keys(), variants=network_sizes, grpByVal=_x)\n",
    "nvtx_total_time = get_single_metric_all_variants(nvtx_avg, x=_x, y=_y)\n",
    "\n",
    "ax = nvtx_total_time.plot(kind='bar',x=_x, title=_y, ylabel=_y)\n",
    "plt.setp(ax.get_xticklabels(), rotation=90, horizontalalignment='right');\n",
    "ax.legend(loc='upper center', bbox_to_anchor=(1.22, 1.02), ncol=1, fancybox=False, shadow=True)\n",
    "\n",
    "fig = ax.get_figure()\n",
    "fig.savefig(f'figures/vst2_{_stat_file}_{_y}.jpg',bbox_inches='tight')\n",
    "fig = ax.get_figure()\n"
   ]
  },
  {
   "cell_type": "code",
   "execution_count": null,
   "metadata": {},
   "outputs": [],
   "source": [
    "_stat_file = 'cuda_gpu_mem_time_sum'\n",
    "_x = 'Operation'\n",
    "_y = 'Total Time (ns)'\n",
    "\n",
    "nvtx_sum = allTests_allVariants_stats(master=master,   tests= master.keys(),    variant_prefix='size_', variants=network_sizes, stat_file=_stat_file)\n",
    "nvtx_avg = get_avg_of_all_tests(src=nvtx_sum, tests=master.keys(), variants=network_sizes, grpByVal=_x)\n",
    "nvtx_total_time = get_single_metric_all_variants(nvtx_avg, x=_x, y=_y)\n",
    "\n",
    "ax = nvtx_total_time.plot(kind='bar',x=_x, title=_y, ylabel=_y)\n",
    "plt.setp(ax.get_xticklabels(), rotation=90, horizontalalignment='right');\n",
    "ax.legend(loc='upper center', bbox_to_anchor=(1.22, 1.02), ncol=1, fancybox=False, shadow=True)\n",
    "\n",
    "fig = ax.get_figure()\n",
    "fig.savefig(f'figures/vst2_{_stat_file}_{_y}.jpg',bbox_inches='tight')\n",
    "fig = ax.get_figure()\n"
   ]
  },
  {
   "cell_type": "code",
   "execution_count": null,
   "metadata": {},
   "outputs": [],
   "source": [
    "master['test1']['size_128_cuda_gpu_mem_time_sum.csv']"
   ]
  },
  {
   "cell_type": "code",
   "execution_count": null,
   "metadata": {},
   "outputs": [],
   "source": [
    "stats_types"
   ]
  },
  {
   "cell_type": "code",
   "execution_count": null,
   "metadata": {},
   "outputs": [],
   "source": [
    "#nvtx_avg = {}\n",
    "#for sz in network_sizes:\n",
    "#    nvtx_avg[sz] = pd.concat([nvtx_sum['test1'][sz], nvtx_sum['test2'][sz], nvtx_sum['test3'][sz]]).groupby('Range', as_index=False).mean()"
   ]
  },
  {
   "cell_type": "code",
   "execution_count": null,
   "metadata": {},
   "outputs": [],
   "source": [
    "#nvtx_list = ['nvtx_64','nvtx_128','nvtx_256','nvtx_512','nvtx_1024']\n",
    "#nvtx = {}\n",
    "#    \n",
    "#for sz in network_sizes:\n",
    "#    nvtx[sz] = nvtx_avg[sz][['Time (%)','Total Time (ns)','Instances','Avg (ns)','Med (ns)','Range']]\n",
    "#    nvtx[sz] = nvtx[sz].set_index('Range')\n",
    "#    add_suffix(nvtx[sz],str('_sz'+sz), ignore='Range')\n",
    "#    nvtx[sz].reset_index(inplace=True)"
   ]
  },
  {
   "cell_type": "code",
   "execution_count": null,
   "metadata": {},
   "outputs": [],
   "source": [
    "##########################################\n",
    "#col = 'Total Time (ns)'\n",
    "#\n",
    "#nvtx_tot_time = pd.concat([\n",
    "#    nvtx['64'][['Range',    col+'_sz64']],\n",
    "#    nvtx['128'][            col+'_sz128'],\n",
    "#    nvtx['256'][            col+'_sz256'],\n",
    "#    nvtx['512'][            col+'_sz512'],\n",
    "#    nvtx['1024'][           col+'_sz1024']\n",
    "#    ],axis=1)\n",
    "#nvtx_tot_time"
   ]
  },
  {
   "cell_type": "code",
   "execution_count": null,
   "metadata": {},
   "outputs": [],
   "source": [
    "ax = nvtx_total_time.plot(kind='bar',x='Range', title='total time')\n",
    "plt.setp(ax.get_xticklabels(), rotation=90, horizontalalignment='right');\n",
    "ax.legend(loc='upper center', bbox_to_anchor=(1.22, 1.02), ncol=1, fancybox=False, shadow=True)\n",
    "\n",
    "#ax1 = cas_num_calls.plot(kind='bar',x='Name', title='number of calls',log=True)\n",
    "#plt.setp(ax.get_xticklabels(), rotation=90, horizontalalignment='right');\n",
    "#ax1.legend(loc='upper center', bbox_to_anchor=(1.22, 1.02), ncol=1, fancybox=False, shadow=True)\n",
    "#\n",
    "#ax2 = cas_time_perct.plot(kind='bar',x='Name', title='time (%)',log=True)\n",
    "#plt.setp(ax.get_xticklabels(), rotation=90, horizontalalignment='right');\n",
    "#ax2.legend(loc='upper center', bbox_to_anchor=(1.22, 1.02), ncol=1, fancybox=False, shadow=True)\n",
    "#\n",
    "fig = ax.get_figure()\n",
    "fig.savefig('figures/nvtx_vst2_tot_time.jpg',bbox_inches='tight')\n",
    "fig = ax.get_figure()\n",
    "#fig.savefig('figures/cas_num_of_calls.jpg',bbox_inches='tight')\n",
    "#fig = ax.get_figure()\n",
    "#fig.savefig('figures/cas_percent.jpg',bbox_inches='tight')"
   ]
  },
  {
   "cell_type": "markdown",
   "metadata": {},
   "source": [
    "<H2> Test3 </H2>"
   ]
  },
  {
   "cell_type": "code",
   "execution_count": null,
   "metadata": {},
   "outputs": [],
   "source": []
  }
 ],
 "metadata": {
  "kernelspec": {
   "display_name": "Python 3.9.15 ('pt_gpu': conda)",
   "language": "python",
   "name": "python3"
  },
  "language_info": {
   "codemirror_mode": {
    "name": "ipython",
    "version": 3
   },
   "file_extension": ".py",
   "mimetype": "text/x-python",
   "name": "python",
   "nbconvert_exporter": "python",
   "pygments_lexer": "ipython3",
   "version": "3.9.15"
  },
  "orig_nbformat": 4,
  "vscode": {
   "interpreter": {
    "hash": "b01c6f871d9788711fbb562e02da772ab6803a8aad9db68f56d9b3305279e7f6"
   }
  }
 },
 "nbformat": 4,
 "nbformat_minor": 2
}
