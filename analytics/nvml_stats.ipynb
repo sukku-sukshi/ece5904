{
 "cells": [
  {
   "cell_type": "code",
   "execution_count": 11,
   "metadata": {},
   "outputs": [],
   "source": [
    "import pynvml as pyn\n",
    "from pynvml.smi import nvidia_smi\n",
    "nvml = nvidia_smi.getInstance()\n",
    "gpu = pyn.nvmlDeviceGetHandleByIndex(0)"
   ]
  },
  {
   "cell_type": "code",
   "execution_count": 28,
   "metadata": {},
   "outputs": [
    {
     "name": "stdout",
     "output_type": "stream",
     "text": [
      "16.0\n"
     ]
    }
   ],
   "source": [
    "Gib = 1073741824\n",
    "info = pyn.nvmlDeviceGetMemoryInfo(gpu)\n",
    "print(info.total/Gib)"
   ]
  },
  {
   "cell_type": "code",
   "execution_count": 35,
   "metadata": {},
   "outputs": [
    {
     "data": {
      "text/plain": [
       "33"
      ]
     },
     "execution_count": 35,
     "metadata": {},
     "output_type": "execute_result"
    }
   ],
   "source": [
    "temp = pyn.nvmlDeviceGetTemperature(gpu, pyn.NVML_TEMPERATURE_GPU)\n",
    "temp"
   ]
  },
  {
   "cell_type": "code",
   "execution_count": null,
   "metadata": {},
   "outputs": [],
   "source": []
  }
 ],
 "metadata": {
  "kernelspec": {
   "display_name": "Python 3.9.15 ('pt_gpu': conda)",
   "language": "python",
   "name": "python3"
  },
  "language_info": {
   "codemirror_mode": {
    "name": "ipython",
    "version": 3
   },
   "file_extension": ".py",
   "mimetype": "text/x-python",
   "name": "python",
   "nbconvert_exporter": "python",
   "pygments_lexer": "ipython3",
   "version": "3.9.15"
  },
  "orig_nbformat": 4,
  "vscode": {
   "interpreter": {
    "hash": "b01c6f871d9788711fbb562e02da772ab6803a8aad9db68f56d9b3305279e7f6"
   }
  }
 },
 "nbformat": 4,
 "nbformat_minor": 2
}
